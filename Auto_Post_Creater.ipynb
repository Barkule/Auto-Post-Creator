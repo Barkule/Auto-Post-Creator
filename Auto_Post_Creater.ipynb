{
  "nbformat": 4,
  "nbformat_minor": 0,
  "metadata": {
    "colab": {
      "provenance": [],
      "authorship_tag": "ABX9TyN+MWlEZbR2f4/KEM1tnwJ6",
      "include_colab_link": true
    },
    "kernelspec": {
      "name": "python3",
      "display_name": "Python 3"
    },
    "language_info": {
      "name": "python"
    }
  },
  "cells": [
    {
      "cell_type": "markdown",
      "metadata": {
        "id": "view-in-github",
        "colab_type": "text"
      },
      "source": [
        "<a href=\"https://colab.research.google.com/github/Barkule/Auto-Post-Creator/blob/main/Auto_Post_Creater.ipynb\" target=\"_parent\"><img src=\"https://colab.research.google.com/assets/colab-badge.svg\" alt=\"Open In Colab\"/></a>"
      ]
    },
    {
      "cell_type": "code",
      "execution_count": null,
      "metadata": {
        "id": "ocBtzHlfzW7D"
      },
      "outputs": [],
      "source": [
        "# Install Hugging Face transformers and datasets for text and image tasks\n",
        "!pip install transformers datasets\n",
        "\n",
        "# Install Pillow for image manipulation\n",
        "!pip install pillow\n",
        "\n",
        "# Install matplotlib for displaying images\n",
        "!pip install matplotlib\n",
        "\n",
        "# Install requests for making API calls\n",
        "!pip install requests"
      ]
    },
    {
      "cell_type": "code",
      "source": [
        "from transformers import pipeline\n",
        "\n",
        "# Define the text prompt\n",
        "text_prompt = \"Promote our AI-based Medical Diagnosis System with 95% accuracy and instant results for diabetes and heart disease.\"\n",
        "\n",
        "# Load a pre-trained text classification model for keyphrase extraction\n",
        "nlp = pipeline('ner', model=\"dslim/bert-base-NER\")\n",
        "\n",
        "# Extract key phrases\n",
        "results = nlp(text_prompt)\n",
        "key_phrases = [res['word'] for res in results]\n",
        "print(\"Extracted key phrases:\", key_phrases)"
      ],
      "metadata": {
        "id": "-PX75c3xzfW5"
      },
      "execution_count": null,
      "outputs": []
    },
    {
      "cell_type": "code",
      "source": [
        "#Img Generation\n",
        "\n",
        "# Install the necessary libraries, including diffusers for Stable Diffusion\n",
        "!pip install transformers diffusers accelerate\n",
        "\n",
        "from transformers import pipeline\n",
        "from diffusers import StableDiffusionPipeline\n",
        "import torch\n",
        "\n",
        "!huggingface-cli login\n",
        "\n",
        "# loading Stable Diffusion pipeline\n",
        "pipe = StableDiffusionPipeline.from_pretrained(\"runwayml/stable-diffusion-v1-5\", torch_dtype=torch.float16)\n",
        "pipe = pipe.to(\"cuda\") # If you have a CUDA-enabled GPU, move the pipeline to the GPU for faster processing\n",
        "\n",
        "# Provide the prompt to generate the image\n",
        "image_prompt = \"A doctor using AI technology to diagnose patients with diabetes and heart disease.\"\n",
        "\n",
        "# Generate the image\n",
        "image = pipe(image_prompt).images[0]\n",
        "\n",
        "# Display the generated image\n",
        "import matplotlib.pyplot as plt\n",
        "plt.imshow(image)\n",
        "plt.axis('off')\n",
        "plt.show()"
      ],
      "metadata": {
        "id": "NvSLI1i5zh1A"
      },
      "execution_count": null,
      "outputs": []
    },
    {
      "cell_type": "code",
      "source": [
        "from PIL import Image, ImageDraw, ImageFont, ImageEnhance\n",
        "\n",
        "# Load the generated image (or any stock image)\n",
        "image = image\n",
        "\n",
        "# Initialize drawing context\n",
        "draw = ImageDraw.Draw(image)\n",
        "\n",
        "# Define the text to overlay\n",
        "text = \"AI-based Medical Diagnosis System\\n95% Accuracy\\nInstant results for diabetes and heart disease\"\n",
        "\n",
        "# Use PIL's default font (if you have no custom font)\n",
        "font = ImageFont.load_default(20)\n",
        "\n",
        "# Calculate text size and position to center the text using textbbox()\n",
        "text_bbox = draw.textbbox((0, 0), text, font=font)\n",
        "text_width = text_bbox[2] - text_bbox[0]\n",
        "text_height = text_bbox[3] - text_bbox[1]\n",
        "\n",
        "# Get image dimensions\n",
        "image_width, image_height = image.size\n",
        "\n",
        "# Position text in the center\n",
        "text_position = ((image_width - text_width) // 2, (image_height - text_height) // 2)\n",
        "\n",
        "# Create a faded rectangle behind the text\n",
        "rectangle_padding = 50  # Padding around the text\n",
        "rectangle_position = (\n",
        "    text_position[0] - rectangle_padding,\n",
        "    text_position[1] - rectangle_padding,\n",
        "    text_position[0] + text_width + rectangle_padding,\n",
        "    text_position[1] + text_height + rectangle_padding\n",
        ")\n",
        "\n",
        "# Add a semi-transparent rectangle\n",
        "overlay = Image.new(\"RGBA\", image.size, (0, 0, 0, 0))  # Create a transparent overlay\n",
        "overlay_draw = ImageDraw.Draw(overlay)\n",
        "overlay_draw.rectangle(rectangle_position, fill=(0, 0, 0, 195))  # Semi-transparent black rectangle\n",
        "\n",
        "# Merge the overlay with the original image\n",
        "image_with_overlay = Image.alpha_composite(image.convert(\"RGBA\"), overlay)\n",
        "\n",
        "# Overlay the text on the image\n",
        "draw = ImageDraw.Draw(image_with_overlay)  # Reinitialize draw context for RGBA image\n",
        "draw.text(text_position, text, font=font, fill=\"white\")\n",
        "\n",
        "# Save the final poster\n",
        "image_with_overlay.convert(\"RGB\").save(\"poster_with_text.jpg\")\n",
        "\n",
        "# Display the final image\n",
        "image_with_overlay.show()"
      ],
      "metadata": {
        "id": "VLd0tuw9zk0m"
      },
      "execution_count": null,
      "outputs": []
    },
    {
      "cell_type": "code",
      "source": [
        "# for logo\n",
        "\n",
        "from PIL import Image, ImageDraw, ImageFont\n",
        "\n",
        "# Load the generated image (or any stock image)\n",
        "image = Image.open(\"poster_with_text.jpg\")\n",
        "\n",
        "# Load the company logo\n",
        "logo = Image.open(\"path_to_your_logo.png\")\n",
        "\n",
        "# Resize the logo if it's too large for the image (optional)\n",
        "logo.thumbnail((100, 100))  # Set size as needed\n",
        "\n",
        "# Calculate the position for the upper-right corner\n",
        "logo_position = (image.width - logo.width, 0)\n",
        "\n",
        "# Ensure the logo has an alpha channel for transparency\n",
        "if logo.mode == \"RGB\":\n",
        "    logo = logo.convert(\"RGBA\")\n",
        "\n",
        "# If your logo has transparency, use this:\n",
        "image.paste(logo, logo_position, logo)\n",
        "# If your logo has no transparency, use the line below:\n",
        "# image.paste(logo, logo_position)\n",
        "\n",
        "# Save the final poster with the logo\n",
        "image.save(\"poster_with_logo_upper_right.jpg\")\n",
        "\n",
        "# Display the final image\n",
        "image.show()"
      ],
      "metadata": {
        "id": "U3OyYJyizn48"
      },
      "execution_count": null,
      "outputs": []
    }
  ]
}